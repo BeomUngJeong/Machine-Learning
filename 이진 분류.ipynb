{
 "cells": [
  {
   "cell_type": "code",
   "execution_count": 124,
   "id": "fe1c9bdc-2282-4fd4-ade1-072f4c75f465",
   "metadata": {},
   "outputs": [],
   "source": [
    "import numpy as np\n",
    "from sympy import diff"
   ]
  },
  {
   "cell_type": "code",
   "execution_count": 125,
   "id": "21579ca5-b07d-42cf-b629-e907a2e62137",
   "metadata": {},
   "outputs": [],
   "source": [
    "x=np.arange(-5,6,1).reshape(11,1)\n",
    "y=np.array([0,0,0,0,0,1,1,1,1,1,1]).reshape(11,1)\n",
    "W=np.random.rand(1,1)\n",
    "b=np.random.rand()"
   ]
  },
  {
   "cell_type": "code",
   "execution_count": 126,
   "id": "6deb01d4-2ffe-4ddc-803d-436ef593e627",
   "metadata": {},
   "outputs": [],
   "source": [
    "def sigmoid(input): \n",
    "    return 1/(1+np.exp(-input))\n",
    "def CE(t,y): # 크로스 엔트로피 손실\n",
    "    return -( t*np.log(y+1e-10) + (1-t)*np.log(1-y+1e-10) )\n",
    "def predict(new_input):\n",
    "    y=sigmoid(np.dot(new_input,W)+b)\n",
    "    res=np.copy(y)\n",
    "    for i in range(len(y)):\n",
    "        if y[i][0]>0.5:\n",
    "            res[i][0]=1\n",
    "        else:\n",
    "            res[i][0]=0\n",
    "    return res"
   ]
  },
  {
   "cell_type": "code",
   "execution_count": null,
   "id": "6900f880-36cd-4284-8525-bb3dc828cc9e",
   "metadata": {},
   "outputs": [],
   "source": []
  }
 ],
 "metadata": {
  "kernelspec": {
   "display_name": "Python 3 (ipykernel)",
   "language": "python",
   "name": "python3"
  },
  "language_info": {
   "codemirror_mode": {
    "name": "ipython",
    "version": 3
   },
   "file_extension": ".py",
   "mimetype": "text/x-python",
   "name": "python",
   "nbconvert_exporter": "python",
   "pygments_lexer": "ipython3",
   "version": "3.11.5"
  }
 },
 "nbformat": 4,
 "nbformat_minor": 5
}
