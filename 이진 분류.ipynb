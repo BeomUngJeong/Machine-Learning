{
 "cells": [
  {
   "cell_type": "code",
   "execution_count": 1,
   "id": "fe1c9bdc-2282-4fd4-ade1-072f4c75f465",
   "metadata": {},
   "outputs": [],
   "source": [
    "import numpy as np"
   ]
  },
  {
   "cell_type": "code",
   "execution_count": 2,
   "id": "21579ca5-b07d-42cf-b629-e907a2e62137",
   "metadata": {},
   "outputs": [],
   "source": [
    "x=np.arange(-5,6,1).reshape(11,1)\n",
    "t=np.array([0,0,0,0,0,1,1,1,1,1,1]).reshape(11,1)\n",
    "W=np.random.rand(1,1)\n",
    "b=np.random.rand()"
   ]
  },
  {
   "cell_type": "code",
   "execution_count": 3,
   "id": "6deb01d4-2ffe-4ddc-803d-436ef593e627",
   "metadata": {},
   "outputs": [],
   "source": [
    "def sigmoid(input): \n",
    "    return 1/(1+np.exp(-input))\n",
    "def CE(t,y): # 크로스 엔트로피 손실\n",
    "    return -( t*np.log(y+1e-10) + (1-t)*np.log(1-y+1e-10) )\n",
    "def predict(new_input):\n",
    "    y=sigmoid(np.dot(new_input,W)+b)\n",
    "    res=np.copy(y)\n",
    "    for i in range(len(y)):\n",
    "        if y[i][0]>0.5:\n",
    "            res[i][0]=1\n",
    "        else:\n",
    "            res[i][0]=0\n",
    "    return res"
   ]
  },
  {
   "cell_type": "code",
   "execution_count": 4,
   "id": "96c0cee7-39bb-4fc8-81b5-52d42ff0b251",
   "metadata": {},
   "outputs": [],
   "source": [
    "def numerical_derivative(f, x):\n",
    "    delta_x = 0.0001\n",
    "    gradient = np.zeros_like(x, dtype=float)\n",
    "    for idx in range(x.size):\n",
    "        tmp_val = x[idx]\n",
    "        x[idx] = tmp_val + delta_x\n",
    "        fx1 = f(x)\n",
    "        x[idx] = tmp_val - delta_x \n",
    "        fx2 = f(x)\n",
    "        gradient[idx] = (fx1 - fx2) / (2 * delta_x)\n",
    "        x[idx] = tmp_val \n",
    "    return gradient"
   ]
  }
 ],
 "metadata": {
  "kernelspec": {
   "display_name": "Python 3 (ipykernel)",
   "language": "python",
   "name": "python3"
  },
  "language_info": {
   "codemirror_mode": {
    "name": "ipython",
    "version": 3
   },
   "file_extension": ".py",
   "mimetype": "text/x-python",
   "name": "python",
   "nbconvert_exporter": "python",
   "pygments_lexer": "ipython3",
   "version": "3.11.5"
  }
 },
 "nbformat": 4,
 "nbformat_minor": 5
}
